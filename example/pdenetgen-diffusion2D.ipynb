{
 "cells": [
  {
   "cell_type": "markdown",
   "metadata": {},
   "source": [
    "<center>                                       <H1>Validation of the NN code generator for the 2D diffusion equation </H1> \n",
    "    <H3>O. Pannekoucke</H3> \n",
    "</center>\n",
    "$   %\\newcommand{\\pde}{\\partial}\n",
    "    %\\newcommand{\\pdt}{\\partial_t}\n",
    "    %\\newcommand{\\pdx}{\\partial_x}\n",
    "    \\newcommand{\\bu}{\\bar u}\n",
    "    \\newcommand{\\eps}{\\varepsilon}$"
   ]
  },
  {
   "cell_type": "markdown",
   "metadata": {
    "slideshow": {
     "slide_type": "subslide"
    }
   },
   "source": [
    "<center> <b>Objectifs</b> </center>\n",
    "\n",
    " * Definition of the 2D diffusion equation by using `sympy`\n",
    " * Computation of the numerical solution of the 2D diffusion using a NN"
   ]
  },
  {
   "cell_type": "markdown",
   "metadata": {},
   "source": [
    "--- \n",
    "<h1><center>Contents</center></h1>\n",
    "\n",
    "\n",
    "  1. [Introduction](#intro)\n",
    "  1. [Dynamics](#model)\n",
    "  1. [Numerical code for the resolution](#code)\n",
    "  1. [Numerical application](#num)\n",
    "  1. [Conclusion](#conclusion)\n",
    "---"
   ]
  },
  {
   "cell_type": "markdown",
   "metadata": {},
   "source": [
    "## Introduction <a id='intro'/>"
   ]
  },
  {
   "cell_type": "markdown",
   "metadata": {},
   "source": [
    "The aim is to compute the solution of the diffusion equation given by\n",
    "$$\\partial_t u = \\partial_{x^i}\\left(\\kappa_{ij}\\partial_{x^j} u \\right),$$\n",
    "where $\\kappa$  is a field of diffusion tensors."
   ]
  },
  {
   "cell_type": "markdown",
   "metadata": {},
   "source": [
    "## Dynamics <a id='model'>"
   ]
  },
  {
   "cell_type": "code",
   "execution_count": 1,
   "metadata": {},
   "outputs": [
    {
     "name": "stdout",
     "output_type": "stream",
     "text": [
      "3.8.8\n"
     ]
    }
   ],
   "source": [
    "from platform import python_version\n",
    "\n",
    "print(python_version())"
   ]
  },
  {
   "cell_type": "code",
   "execution_count": 2,
   "metadata": {},
   "outputs": [
    {
     "name": "stdout",
     "output_type": "stream",
     "text": [
      "tf: 2.4.0\n",
      "np: 1.19.5\n",
      "sympy: 1.8\n",
      "jinja2: 2.11.3\n"
     ]
    }
   ],
   "source": [
    "import tensorflow as tf\n",
    "print('tf:',tf.__version__)\n",
    "import numpy as np\n",
    "print('np:',np.__version__)\n",
    "import sympy as sympy\n",
    "print('sympy:',sympy.__version__)\n",
    "import jinja2 \n",
    "print('jinja2:',jinja2.__version__)"
   ]
  },
  {
   "cell_type": "code",
   "execution_count": 3,
   "metadata": {
    "ExecuteTime": {
     "end_time": "2018-10-03T09:05:22.911943Z",
     "start_time": "2018-10-03T09:05:22.699109Z"
    }
   },
   "outputs": [],
   "source": [
    "from sympy import init_printing\n",
    "init_printing() "
   ]
  },
  {
   "cell_type": "markdown",
   "metadata": {},
   "source": [
    "**Set the diffusion equation**"
   ]
  },
  {
   "cell_type": "code",
   "execution_count": 4,
   "metadata": {
    "ExecuteTime": {
     "end_time": "2018-10-03T09:05:22.918731Z",
     "start_time": "2018-10-03T09:05:22.913163Z"
    }
   },
   "outputs": [
    {
     "name": "stdout",
     "output_type": "stream",
     "text": [
      "Warning: function `kappa_22` has to be set\n",
      "Warning: function `kappa_12` has to be set\n",
      "Warning: function `kappa_11` has to be set\n"
     ]
    }
   ],
   "source": [
    "from sympy import Function, symbols, Derivative\n",
    "from pdenetgen import Eq, NNModelBuilder, t\n",
    "\n",
    "# Defines the diffusion equation using sympy\n",
    "x, y = symbols('x y')\n",
    "u = Function('u')(t,x,y)\n",
    "kappa11 = Function('\\\\kappa_{11}')(x,y)\n",
    "kappa12 = Function('\\\\kappa_{12}')(x,y)\n",
    "kappa22 = Function('\\\\kappa_{22}')(x,y)\n",
    "\n",
    "diffusion_2D = Eq(Derivative(u,t),\n",
    "  Derivative(kappa11*Derivative(u,x)+\n",
    "             kappa12*Derivative(u,y),x)+\n",
    "  Derivative(kappa12*Derivative(u,x)+\n",
    "             kappa22*Derivative(u,y),y)).doit()\n",
    "\n",
    "# Defines the neural network code generator\n",
    "diffusion_nn_builder = NNModelBuilder(diffusion_2D,\n",
    "        class_name=\"NNDiffusion2DHeterogeneous\")\n",
    "\n",
    "# Renders the neural network code\n",
    "exec(diffusion_nn_builder.code)\n",
    "\n",
    "# Create a 2D Diffusion model\n",
    "diffusion_model = NNDiffusion2DHeterogeneous()"
   ]
  },
  {
   "cell_type": "markdown",
   "metadata": {},
   "source": [
    "**Sample of NN code generated**\n",
    "```python\n",
    "# Example of computation of a derivative\n",
    "kernel_Du_x_o1 = np.asarray([[0.0,-1/(2*self.dx[self.coordinates.index('x')]),0.0],\n",
    " [0.0,0.0,0.0],\n",
    " [0.0,1/(2*self.dx[self.coordinates.index('x')]),0.0]]).reshape((3, 3)+(1,1))\n",
    "Du_x_o1 = DerivativeFactory((3, 3),kernel=kernel_Du_x_o1,name='Du_x_o1')(u)\n",
    "\n",
    "# Computation of trend_u\n",
    "mul_0 = keras.layers.multiply([Dkappa_11_x_o1,Du_x_o1],name='MulLayer_0')\n",
    "mul_1 = keras.layers.multiply([Dkappa_12_x_o1,Du_y_o1],name='MulLayer_1')\n",
    "mul_2 = keras.layers.multiply([Dkappa_12_y_o1,Du_x_o1],name='MulLayer_2')\n",
    "mul_3 = keras.layers.multiply([Dkappa_22_y_o1,Du_y_o1],name='MulLayer_3')\n",
    "mul_4 = keras.layers.multiply([Du_x_o2,kappa_11],name='MulLayer_4')\n",
    "mul_5 = keras.layers.multiply([Du_y_o2,kappa_22],name='MulLayer_5')\n",
    "mul_6 = keras.layers.multiply([Du_x_o1_y_o1,kappa_12],name='MulLayer_6')\n",
    "sc_mul_0 = keras.layers.Lambda(lambda x: 2.0*x,name='ScalarMulLayer_0')(mul_6)\n",
    "trend_u = keras.layers.add([mul_0,mul_1,mul_2,mul_3,mul_4,mul_5,sc_mul_0],name='AddLayer_0')\n",
    "```"
   ]
  },
  {
   "cell_type": "code",
   "execution_count": 5,
   "metadata": {},
   "outputs": [
    {
     "name": "stdout",
     "output_type": "stream",
     "text": [
      "from pdenetgen.model import Model\n",
      "import numpy as np\n",
      "import tensorflow.keras as keras\n",
      "from pdenetgen.symbolic.nn_builder import DerivativeFactory, TrainableScalarLayerFactory\n",
      "\n",
      "class NNDiffusion2DHeterogeneous(Model):\n",
      "\n",
      "    # Prognostic functions (sympy functions):\n",
      "    prognostic_functions = (\n",
      "            'u',    # Write comments on the function here\n",
      "        )\n",
      "\n",
      "    \n",
      "    \n",
      "    # Spatial coordinates\n",
      "    coordinates = (\n",
      "            'x',    # Write comments on the coordinate here\n",
      "            'y',    # Write comments on the coordinate here\n",
      "        )\n",
      "\n",
      "    \n",
      "    # Set constant functions\n",
      "    constant_functions = (\n",
      "            'kappa_22',    # Writes comment on the constant function here\n",
      "            'kappa_12',    # Writes comment on the constant function here\n",
      "            'kappa_11',    # Writes comment on the constant function here\n",
      "        )\n",
      "    \n",
      "\n",
      "    \n",
      "\n",
      "    def __init__(self, shape=None, lengths=None, **kwargs):\n",
      "\n",
      "        super().__init__() # Time scheme is set from Model.__init__()\n",
      "                \n",
      "        #---------------------------------\n",
      "        # Set index array from coordinates\n",
      "        #---------------------------------\n",
      "        \n",
      "        # a) Set shape\n",
      "        shape = len(self.coordinates)*(100,) if shape is None else shape \n",
      "        if len(shape)!=len(self.coordinates):\n",
      "            raise ValueError(f\"len(shape) {len(shape)} is different from len(coordinates) {len(self.coordinates)}\")\n",
      "        else:\n",
      "            self.shape = shape\n",
      "    \n",
      "        # b) Set input shape for coordinates\n",
      "        self.input_shape_x = shape[0]\n",
      "        self.input_shape_y = shape[1]\n",
      "        \n",
      "                \n",
      "        # c) Set lengths\n",
      "        lengths = len(self.coordinates)*(1.0,) if lengths is None else lengths\n",
      "        if len(lengths)!=len(self.coordinates):\n",
      "            raise ValueError(f\"len(lengths) {len(lengths)} is different from len(coordinates) {len(self.coordinates)}\")        \n",
      "        else:\n",
      "            self.lengths = lengths\n",
      "            \n",
      "        # d) Set indexes\n",
      "        self._index = {}\n",
      "        for k,coord in enumerate(self.coordinates):\n",
      "            self._index[(coord,0)] = np.arange(self.shape[k], dtype=int)            \n",
      "        \n",
      "        # Set x/dx\n",
      "        #-------------\n",
      "        self.dx = tuple(length/shape for length, shape in zip(self.lengths, self.shape))\n",
      "        self.x = tuple(self.index(coord,0)*dx for coord, dx in zip(self.coordinates, self.dx))\n",
      "        self.X = np.meshgrid(*self.x)\n",
      "\n",
      "        \n",
      "        #-----------------------\n",
      "        # Set constant functions\n",
      "        #-----------------------\n",
      "          \n",
      "        # Set a default nan value for constants\n",
      "        self.kappa_22 = np.nan # @@ set constant value @@\n",
      "        self.kappa_12 = np.nan # @@ set constant value @@\n",
      "        self.kappa_11 = np.nan # @@ set constant value @@\n",
      "        \n",
      "                \n",
      "        # Set constant function values from external **kwargs (when provided)\n",
      "        for key in kwargs:\n",
      "            if key in self.constant_functions:\n",
      "                setattr(self, key, kwargs[key])\n",
      "        \n",
      "        # Alert when a constant is np.nan\n",
      "        for function in self.constant_functions:\n",
      "            if getattr(self, function) is np.nan:\n",
      "                print(f\"Warning: function `{function}` has to be set\")\n",
      "        \n",
      "\n",
      "        \n",
      "        \n",
      "        # Set NN models\n",
      "        self._trend_model = None\n",
      "        self._exogenous_model = None\n",
      "    \n",
      "    def index(self, coord, step:int):\n",
      "        \"\"\" Return int array of shift index associated with coordinate `coord` for shift `step` \"\"\"\n",
      "        # In this implementation, indexes are memory saved in a dictionary, feed at runtime \n",
      "        if (coord,step) not in self._index:\n",
      "            self._index[(coord,step)] = (self._index[(coord,0)]+step)%self.shape[self.coordinates.index(coord)]\n",
      "        return self._index[(coord,step)] \n",
      "    \n",
      "    def _make_trend_model(self):\n",
      "        \"\"\" Generate the NN used to compute the trend of the dynamics \"\"\"\n",
      "        # Alias for constant functions\n",
      "        #-----------------------------\n",
      "        kappa_22 = self.kappa_22\n",
      "        if kappa_22 is np.nan:\n",
      "            raise ValueError(\"Constant function 'kappa_22' is not set\")\n",
      "        kappa_12 = self.kappa_12\n",
      "        if kappa_12 is np.nan:\n",
      "            raise ValueError(\"Constant function 'kappa_12' is not set\")\n",
      "        kappa_11 = self.kappa_11\n",
      "        if kappa_11 is np.nan:\n",
      "            raise ValueError(\"Constant function 'kappa_11' is not set\")\n",
      "                  \n",
      "        \n",
      "                        \n",
      "                \n",
      "        \n",
      "        # Set input layers\n",
      "        #------------------\n",
      "        # Set Alias for coordinate input shapes\n",
      "        input_shape_x = self.input_shape_x\n",
      "        input_shape_y = self.input_shape_y\n",
      "                \n",
      "        # Set input shape for prognostic functions\n",
      "        u = keras.layers.Input(shape =(input_shape_x,input_shape_y,1,))\n",
      "         \n",
      "        # Set input shape for constant functions \n",
      "        kappa_22 = keras.layers.Input(shape =(input_shape_x,input_shape_y,1,))\n",
      "        kappa_12 = keras.layers.Input(shape =(input_shape_x,input_shape_y,1,))\n",
      "        kappa_11 = keras.layers.Input(shape =(input_shape_x,input_shape_y,1,))\n",
      "                \n",
      "        \n",
      "         \n",
      "        # Keras code\n",
      "         \n",
      "        # 2) Implementation of derivative as ConvNet\n",
      "        # Compute derivative\n",
      "        #-----------------------\n",
      "        #\n",
      "        #  Warning: might be modified to fit appropriate boundary conditions. \n",
      "        #\n",
      "        kernel_Dkappa_12_y_o1 = np.asarray([[0.0,0.0,0.0],\n",
      "         [-1/(2*self.dx[self.coordinates.index('y')]),0.0,\n",
      "          1/(2*self.dx[self.coordinates.index('y')])],\n",
      "         [0.0,0.0,0.0]]).reshape((3, 3)+(1,1))\n",
      "        Dkappa_12_y_o1 = DerivativeFactory((3, 3),kernel=kernel_Dkappa_12_y_o1,name='Dkappa_12_y_o1')(kappa_12)\n",
      "        \n",
      "        kernel_Dkappa_22_y_o1 = np.asarray([[0.0,0.0,0.0],\n",
      "         [-1/(2*self.dx[self.coordinates.index('y')]),0.0,\n",
      "          1/(2*self.dx[self.coordinates.index('y')])],\n",
      "         [0.0,0.0,0.0]]).reshape((3, 3)+(1,1))\n",
      "        Dkappa_22_y_o1 = DerivativeFactory((3, 3),kernel=kernel_Dkappa_22_y_o1,name='Dkappa_22_y_o1')(kappa_22)\n",
      "        \n",
      "        kernel_Du_x_o2 = np.asarray([[0.0,self.dx[self.coordinates.index('x')]**(-2),0.0],\n",
      "         [0.0,-2/self.dx[self.coordinates.index('x')]**2,0.0],\n",
      "         [0.0,self.dx[self.coordinates.index('x')]**(-2),0.0]]).reshape((3, 3)+(1,1))\n",
      "        Du_x_o2 = DerivativeFactory((3, 3),kernel=kernel_Du_x_o2,name='Du_x_o2')(u)\n",
      "        \n",
      "        kernel_Du_y_o1 = np.asarray([[0.0,0.0,0.0],\n",
      "         [-1/(2*self.dx[self.coordinates.index('y')]),0.0,\n",
      "          1/(2*self.dx[self.coordinates.index('y')])],\n",
      "         [0.0,0.0,0.0]]).reshape((3, 3)+(1,1))\n",
      "        Du_y_o1 = DerivativeFactory((3, 3),kernel=kernel_Du_y_o1,name='Du_y_o1')(u)\n",
      "        \n",
      "        kernel_Du_x_o1_y_o1 = np.asarray([[1/(4*self.dx[self.coordinates.index('x')]*self.dx[self.coordinates.index('y')]),\n",
      "          0.0,\n",
      "          -1/(4*self.dx[self.coordinates.index('x')]*self.dx[self.coordinates.index('y')])],\n",
      "         [0.0,0.0,0.0],\n",
      "         [-1/(4*self.dx[self.coordinates.index('x')]*self.dx[self.coordinates.index('y')]),\n",
      "          0.0,\n",
      "          1/(4*self.dx[self.coordinates.index('x')]*self.dx[self.coordinates.index('y')])]]).reshape((3, 3)+(1,1))\n",
      "        Du_x_o1_y_o1 = DerivativeFactory((3, 3),kernel=kernel_Du_x_o1_y_o1,name='Du_x_o1_y_o1')(u)\n",
      "        \n",
      "        kernel_Dkappa_11_x_o1 = np.asarray([[0.0,-1/(2*self.dx[self.coordinates.index('x')]),0.0],\n",
      "         [0.0,0.0,0.0],\n",
      "         [0.0,1/(2*self.dx[self.coordinates.index('x')]),0.0]]).reshape((3, 3)+(1,1))\n",
      "        Dkappa_11_x_o1 = DerivativeFactory((3, 3),kernel=kernel_Dkappa_11_x_o1,name='Dkappa_11_x_o1')(kappa_11)\n",
      "        \n",
      "        kernel_Du_y_o2 = np.asarray([[0.0,0.0,0.0],\n",
      "         [self.dx[self.coordinates.index('y')]**(-2),\n",
      "          -2/self.dx[self.coordinates.index('y')]**2,\n",
      "          self.dx[self.coordinates.index('y')]**(-2)],\n",
      "         [0.0,0.0,0.0]]).reshape((3, 3)+(1,1))\n",
      "        Du_y_o2 = DerivativeFactory((3, 3),kernel=kernel_Du_y_o2,name='Du_y_o2')(u)\n",
      "        \n",
      "        kernel_Dkappa_12_x_o1 = np.asarray([[0.0,-1/(2*self.dx[self.coordinates.index('x')]),0.0],\n",
      "         [0.0,0.0,0.0],\n",
      "         [0.0,1/(2*self.dx[self.coordinates.index('x')]),0.0]]).reshape((3, 3)+(1,1))\n",
      "        Dkappa_12_x_o1 = DerivativeFactory((3, 3),kernel=kernel_Dkappa_12_x_o1,name='Dkappa_12_x_o1')(kappa_12)\n",
      "        \n",
      "        kernel_Du_x_o1 = np.asarray([[0.0,-1/(2*self.dx[self.coordinates.index('x')]),0.0],\n",
      "         [0.0,0.0,0.0],\n",
      "         [0.0,1/(2*self.dx[self.coordinates.index('x')]),0.0]]).reshape((3, 3)+(1,1))\n",
      "        Du_x_o1 = DerivativeFactory((3, 3),kernel=kernel_Du_x_o1,name='Du_x_o1')(u)\n",
      "        \n",
      "                \n",
      "        \n",
      "        # 3) Implementation of the trend as NNet\n",
      "        \n",
      "        #\n",
      "        # Computation of trend_u\n",
      "        #\n",
      "        mul_0 = keras.layers.multiply([Dkappa_11_x_o1,Du_x_o1],name='MulLayer_0')\n",
      "        mul_1 = keras.layers.multiply([Dkappa_12_x_o1,Du_y_o1],name='MulLayer_1')\n",
      "        mul_2 = keras.layers.multiply([Dkappa_12_y_o1,Du_x_o1],name='MulLayer_2')\n",
      "        mul_3 = keras.layers.multiply([Dkappa_22_y_o1,Du_y_o1],name='MulLayer_3')\n",
      "        mul_4 = keras.layers.multiply([Du_x_o2,kappa_11],name='MulLayer_4')\n",
      "        mul_5 = keras.layers.multiply([Du_y_o2,kappa_22],name='MulLayer_5')\n",
      "        mul_6 = keras.layers.multiply([Du_x_o1_y_o1,kappa_12],name='MulLayer_6')\n",
      "        sc_mul_0 = keras.layers.Lambda(lambda x: 2.0*x,name='ScalarMulLayer_0')(mul_6)\n",
      "        trend_u = keras.layers.add([mul_0,mul_1,mul_2,mul_3,mul_4,mul_5,sc_mul_0],name='AddLayer_0')\n",
      "        \n",
      "        \n",
      "        # 4) Set 'input' of model\n",
      "        inputs = [\n",
      "                # Prognostic functions\n",
      "                u,\n",
      "                # Constant functions\n",
      "                kappa_22,kappa_12,kappa_11,\n",
      "            ]         \n",
      "   \n",
      "        # 5) Set 'outputs' of model \n",
      "        outputs = [\n",
      "            trend_u,\n",
      "            ]     \n",
      "        \n",
      "        model = keras.models.Model(inputs=inputs, outputs=outputs)\n",
      "        #model.trainable = False\n",
      "        self._trend_model = model\n",
      "        \n",
      "    def trend(self, t, state):\n",
      "        \"\"\" Trend of the dynamics \"\"\"\n",
      "        \n",
      "        if self._trend_model is None:\n",
      "            self._make_trend_model()\n",
      "\n",
      "        # Init output state with pointer on data\n",
      "        #-------------------------------------------\n",
      "\n",
      "        #   a) Set the output array\n",
      "        dstate = np.zeros(state.shape)\n",
      "\n",
      "        #   b) Set pointers on output array `dstate` for the computation of the physical trend (alias only).\n",
      "        du = dstate[0]\n",
      "        \n",
      "\n",
      "        # Load physical functions from state\n",
      "        #------------------------------------\n",
      "        u = state[0]\n",
      "                  \n",
      "         \n",
      "        \n",
      "        \n",
      "        # Compute the trend value from model.predict\n",
      "        #-------------------------------------------  \n",
      "        inputs = [\n",
      "            # Prognostic functions\n",
      "                u,\n",
      "                # Constant functions \n",
      "                self.kappa_22,\n",
      "                self.kappa_12,\n",
      "                self.kappa_11,\n",
      "                ]\n",
      "        \n",
      "        dstate = self._trend_model.predict( inputs )\n",
      "        \n",
      "        if not isinstance(dstate,list):\n",
      "            dstate = [dstate]\n",
      "        \n",
      "        return np.array(dstate)\n",
      "        \n",
      "    \n",
      "    def _make_dynamical_trend(self):\n",
      "        \"\"\"\n",
      "        Computation of a trend model so to be used in a time scheme (as solving a dynamical system or an ODE)\n",
      "        \n",
      "        Description:\n",
      "        ------------\n",
      "        \n",
      "        In the present implementation, the inputs of the trend `self._trend_model` is a list of fields, while\n",
      "        entry of a time-scheme is a single array which contains all fields.\n",
      "        \n",
      "        The aims of `self._dynamical_trend` is to produce a Keras model which:\n",
      "        1. takes a single array as input\n",
      "        2. extract the `self._trend_model` input list from the input array\n",
      "        3. compute the trends from `self._trend_model`\n",
      "        4. outputs the trends as a single array\n",
      "        \n",
      "        Explaination of the code:\n",
      "        -------------------------\n",
      "        \n",
      "        Should implement a code as the following, that is valid for the PKF-Burgers         \n",
      "                \n",
      "        def _make_dynamical_trend(self):\n",
      "\n",
      "            if self._trend_model is None:\n",
      "                self._make_trend_model()\n",
      "\n",
      "            # 1. Extract the input of the model\n",
      "            \n",
      "            # 1.1 Set the input as an array\n",
      "            state = keras.layers.Input(shape=(3,self.input_shape_x,1))\n",
      "\n",
      "            # 1.2 Extract each components of the state\n",
      "            u = keras.layers.Lambda(lambda x : x[:,0,:,:])(state)\n",
      "            V = keras.layers.Lambda(lambda x : x[:,1,:,:])(state)\n",
      "            nu_u_xx = keras.layers.Lambda(lambda x : x[:,2,:,:])(state)\n",
      "\n",
      "            # 2. Compute the trend\n",
      "            trend_u, trend_V, trend_nu = self._trend_model([u,V,nu_u_xx])\n",
      "            \n",
      "            # 3. Outputs the trend as a single array\n",
      "\n",
      "            # 3.1 Reshape trends\n",
      "            trend_u = keras.layers.Reshape((1,self.input_shape_x,1))(trend_u)\n",
      "            trend_V = keras.layers.Reshape((1,self.input_shape_x,1))(trend_V)\n",
      "            trend_nu = keras.layers.Reshape((1,self.input_shape_x,1))(trend_nu)\n",
      "                        \n",
      "            # 3.2 Concatenates all trends\n",
      "            trends = keras.layers.Concatenate(axis=1)([trend_u,trend_V,trend_nu])\n",
      "            \n",
      "            # 4. Set the dynamical_trend model\n",
      "            self._dynamical_trend = keras.models.Model(inputs=state,outputs=trends)        \n",
      "        \"\"\"\n",
      "        \n",
      "        \n",
      "        if self._trend_model is None:            \n",
      "            self._make_trend_model()\n",
      "            \n",
      "            \n",
      "        for exclude_case in ['constant_functions','exogenous_functions']:\n",
      "            if hasattr(self,exclude_case):\n",
      "                raise NotImplementedError(f'Design of dynamical_model with {exclude_case} is not implemented')\n",
      "\n",
      "                \n",
      "        # Case 1 --  corresponds to the _trend_model if input is a single field                        \n",
      "        if not isinstance(self._trend_model.input_shape, list):\n",
      "            self._dynamical_trend = self._trend_model\n",
      "            return\n",
      "\n",
      "        # Case 2 -- Case where multiple list is used\n",
      "        \n",
      "        # 1. Extract the input of the model\n",
      "\n",
      "        # 1.1 Set the input as an array\n",
      "        \"\"\" from PKF-Burgers code:\n",
      "        state = keras.layers.Input(shape=(3,self.input_shape_x,1))\n",
      "        \"\"\"\n",
      "        \n",
      "        # 1.1.1 Compute the input_shape from _trend_model\n",
      "        shapes = []\n",
      "        dimensions  = []\n",
      "        for shape in self._trend_model.input_shape:\n",
      "            shape = shape[1:] # Exclude batch_size (assumed to be at first)\n",
      "            shapes.append(shape)\n",
      "            dimensions.append(len(shape)-1)\n",
      "            \n",
      "        max_dimension = max(dimensions)\n",
      "        if max_dimension!=1:\n",
      "            if 1 in dimensions:\n",
      "                raise NotImplementedError('1D fields incompatible with 2D/3D fields')            \n",
      "\n",
      "        # todo: add test to check compatibility of shapes!!!!\n",
      "        \n",
      "        if max_dimension in [1,2]:\n",
      "            input_shape = (len(shapes),)+shapes[0]\n",
      "        elif max_dimension==3:\n",
      "            \n",
      "            # a. check the size of 2D fields: this is given by the first 2D field.\n",
      "            for shape, dimension in zip(shapes, dimensions):\n",
      "                if dimension==2:\n",
      "                    input_shape_2D = shape\n",
      "                    break\n",
      "                    \n",
      "            # b. Compute the numbers of 2D fields: this corresponds to the number of 3D layers and the number of 2D fields.\n",
      "        \n",
      "            for shape, dimension in zip(shapes, dimensions):\n",
      "                if dimension==2:\n",
      "                    nb_outputs += 1\n",
      "                else:\n",
      "                    nb_outputs += shape[0]\n",
      "                    \n",
      "            input_shape = (nb_outputs,)+input_shape_2D\n",
      "            \n",
      "        # 1.1.2 Init the state of the dynamical_trend\n",
      "        state = keras.layers.Input(shape=input_shape)\n",
      "        \n",
      "        # 1.2 Extract each components of the state\n",
      "        \"\"\" From PKF-Burgers code:\n",
      "        \n",
      "        u = keras.layers.Lambda(lambda x : x[:,0,:,:])(state)\n",
      "        V = keras.layers.Lambda(lambda x : x[:,1,:,:])(state)\n",
      "        nu_u_xx = keras.layers.Lambda(lambda x : x[:,2,:,:])(state)\n",
      "        \n",
      "        inputs = [u, V, nu_u_xx]\n",
      "        \"\"\"\n",
      "\n",
      "        def get_slice(dimension, k):\n",
      "            def func(x):\n",
      "                if dimension == 1:\n",
      "                    return x[:,k,:,:]\n",
      "                elif dimension == 2:\n",
      "                    return x[:,k,:,:]\n",
      "            return func\n",
      "            \n",
      "        def get_slice_3d(start,end):\n",
      "            def func(x):\n",
      "                return x[:,start:end,:,:,:]\n",
      "            return func\n",
      "\n",
      "        inputs = []\n",
      "        if max_dimension in [1,2]:\n",
      "            for k in range(len(shapes)):\n",
      "                inputs.append(keras.layers.Lambda(get_slice(max_dimension,k))(state))\n",
      "                #if max_dimension==1:\n",
      "                #    inputs.append(keras.layers.Lambda(lambda x : x[:,k,:,:])(state))\n",
      "                #\n",
      "                #if max_dimension==2:\n",
      "                #    inputs.append(keras.layers.Lambda(lambda x : x[:,k,:,:,:])(state))                    \n",
      "        else:\n",
      "            k=0\n",
      "            for shape, dimension in zip(shapes, dimensions):\n",
      "                if dimension==2:\n",
      "                    #inputs.append(keras.layers.Lambda(lambda x : x[:,k,:,:,:])(state))\n",
      "                    inputs.append(keras.layers.Lambda(get_slice(dimension,k))(state))\n",
      "                    k += 1 \n",
      "                if dimension==3:\n",
      "                    start = k\n",
      "                    end = start+shape[0]\n",
      "                    inputs.append(keras.layers.Lambda(get_slice_3d(start,end))(state))\n",
      "                    k = end\n",
      "                    \n",
      "        # 2. Compute the trend\n",
      "        \"\"\" From PKF-Burgers code\n",
      "        trend_u, trend_V, trend_nu = self._trend_model([u,V,nu_u_xx])\n",
      "        \"\"\"\n",
      "        trends = self._trend_model(inputs)\n",
      "        \n",
      "        # 3. Outputs the trend as a single array\n",
      "\n",
      "        # 3.1 Reshape trends\n",
      "        \"\"\" from PKF-Burgers code\n",
      "        trend_u = keras.layers.Reshape((1,self.input_shape_x,1))(trend_u)\n",
      "        trend_V = keras.layers.Reshape((1,self.input_shape_x,1))(trend_V)\n",
      "        trend_nu = keras.layers.Reshape((1,self.input_shape_x,1))(trend_nu)\n",
      "        \"\"\"\n",
      "        \n",
      "        reshape_trends = [] \n",
      "        for trend, dimension in zip(trends, dimensions):\n",
      "            \n",
      "            #shape = tuple(dim.value for dim in trend.shape[1:])\n",
      "            # update from keras -> tensorflow.keras\n",
      "            shape = tuple(dim for dim in trend.shape[1:])\n",
      "            \n",
      "            if dimension==1 or dimension==2:\n",
      "                # for 1D fields like (128,1) transform into (1,128,1)\n",
      "                # for 2D fields like (128,128,1) transform into (1,128,128,1)\n",
      "                shape = (1,)+shape\n",
      "            elif dimension==3:\n",
      "                # 3D fields can be compated: two fields (36,128,128,1) become the single field (72,128,128,1)\n",
      "                pass\n",
      "            else:\n",
      "                raise NotImplementedError\n",
      "                \n",
      "            reshape_trends.append(keras.layers.Reshape(shape)(trend))\n",
      "        \n",
      "        # 3.2 Concatenates all trends\n",
      "        \"\"\" From PKF-Burgers code:\n",
      "        trends = keras.layers.Concatenate(axis=1)([trend_u,trend_V,trend_nu])\n",
      "        \"\"\"\n",
      "        trends = keras.layers.Concatenate(axis=1)(reshape_trends)\n",
      "        \n",
      "        # 2.5 Compute the model       \n",
      "        self._dynamical_trend = keras.models.Model(inputs=state,outputs=trends)    \n",
      "                \n",
      "    \n",
      "\n"
     ]
    }
   ],
   "source": [
    "print(diffusion_nn_builder.code)"
   ]
  },
  {
   "cell_type": "markdown",
   "metadata": {},
   "source": [
    "## Numerical application <a id='num'/>"
   ]
  },
  {
   "cell_type": "markdown",
   "metadata": {},
   "source": [
    "### Definition of the domain of computation"
   ]
  },
  {
   "cell_type": "markdown",
   "metadata": {},
   "source": [
    "The domain is the bi-periodic sqare $[0,1)\\times [0,1)$"
   ]
  },
  {
   "cell_type": "markdown",
   "metadata": {},
   "source": [
    "### Set the numerical NN model"
   ]
  },
  {
   "cell_type": "code",
   "execution_count": 6,
   "metadata": {},
   "outputs": [],
   "source": [
    "domain = diffusion_model"
   ]
  },
  {
   "cell_type": "markdown",
   "metadata": {},
   "source": [
    "**Set initial fields**"
   ]
  },
  {
   "cell_type": "code",
   "execution_count": 7,
   "metadata": {},
   "outputs": [],
   "source": [
    "import numpy as np"
   ]
  },
  {
   "cell_type": "code",
   "execution_count": 8,
   "metadata": {},
   "outputs": [],
   "source": [
    "dx, dy = diffusion_model.dx\n",
    "\n",
    "# Set a dirac at the center of the domain.\n",
    "U = np.zeros(diffusion_model.shape)\n",
    "U[diffusion_model.shape[0]//2, diffusion_model.shape[0]//2] = 1./(dx*dy)\n",
    "\n"
   ]
  },
  {
   "cell_type": "code",
   "execution_count": 9,
   "metadata": {},
   "outputs": [
    {
     "data": {
      "image/png": "[encoded data removed]",
      "text/latex": [
       "$\\displaystyle \\left( 100, \\  100\\right)$"
      ],
      "text/plain": [
       "(100, 100)"
      ]
     },
     "execution_count": 9,
     "metadata": {},
     "output_type": "execute_result"
    }
   ],
   "source": [
    "diffusion_model.shape"
   ]
  },
  {
   "cell_type": "code",
   "execution_count": 10,
   "metadata": {},
   "outputs": [
    {
     "name": "stdout",
     "output_type": "stream",
     "text": [
      "(100, 100, 2)\n"
     ]
    },
    {
     "data": {
      "image/png": "[encoded data removed]",
      "text/latex": [
       "$\\displaystyle 9.62180041190739 \\cdot 10^{-15}$"
      ],
      "text/plain": [
       "9.621800411907392e-15"
      ]
     },
     "execution_count": 10,
     "metadata": {},
     "output_type": "execute_result"
    }
   ],
   "source": [
    "X = np.asarray(diffusion_model.X)\n",
    "k = np.asarray([1,2])\n",
    "X = np.moveaxis(X,0,2)\n",
    "print(X.shape)\n",
    "\n",
    "np.linalg.norm(X@k -k[0]*diffusion_model.X[0]-k[1]*diffusion_model.X[1])"
   ]
  },
  {
   "cell_type": "markdown",
   "metadata": {},
   "source": [
    "**Set constants and time step**"
   ]
  },
  {
   "cell_type": "code",
   "execution_count": 11,
   "metadata": {},
   "outputs": [],
   "source": [
    "import matplotlib.pyplot as plt"
   ]
  },
  {
   "cell_type": "code",
   "execution_count": 12,
   "metadata": {},
   "outputs": [
    {
     "name": "stdout",
     "output_type": "stream",
     "text": [
      "time step: 0.0016666666666666663\n"
     ]
    }
   ],
   "source": [
    "time_scale = 1.\n",
    "#\n",
    "# Construction du tenseur de diffusion\n",
    "#\n",
    "\n",
    "# a) Définition des composantes principales\n",
    "lx, ly = 10*dx, 5*dy\n",
    "kappa_11 = lx**2/time_scale\n",
    "kappa_22 = ly**2/time_scale\n",
    "\n",
    "# b) Construction d'un matrice de rotation\n",
    "R = lambda theta : np.array([[np.cos(theta), -np.sin(theta)],[np.sin(theta), np.cos(theta)]])\n",
    "\n",
    "# c) Spectre du tenseur de référence\n",
    "D = np.diag([kappa_11,kappa_22])\n",
    "\n",
    "\n",
    "# d) Set diffusion tensors field\n",
    "diffusion_model.kappa_11 = np.zeros(diffusion_model.shape)\n",
    "diffusion_model.kappa_12 = np.zeros(diffusion_model.shape)\n",
    "diffusion_model.kappa_22 = np.zeros(diffusion_model.shape)\n",
    "\n",
    "X = np.moveaxis(np.asarray(diffusion_model.X),0,2)\n",
    "k = 2*np.pi*np.array([2,3])\n",
    "\n",
    "theta = np.pi/3*np.cos(X@k)\n",
    "#plt.contourf(*num_model.x, theta)\n",
    "\n",
    "for i in range(diffusion_model.shape[0]):\n",
    "    for j in range(diffusion_model.shape[1]):\n",
    "        lR = R(theta[i,j])\n",
    "        nu = lR@np.diag([kappa_11,kappa_22])@lR.T\n",
    "        diffusion_model.kappa_11[i,j] = nu[0,0]\n",
    "        diffusion_model.kappa_12[i,j] = nu[0,1]\n",
    "        diffusion_model.kappa_22[i,j] = nu[1,1]\n",
    "        \n",
    "        \n",
    "diffusion_model.kappa_11 = diffusion_model.kappa_11.reshape((1,100,100,1))\n",
    "diffusion_model.kappa_12 = diffusion_model.kappa_12.reshape((1,100,100,1))\n",
    "diffusion_model.kappa_22 = diffusion_model.kappa_22.reshape((1,100,100,1))\n",
    "#\n",
    "# Calcul du pas de temps adapté au problème\n",
    "#\n",
    "dt = np.min([dx**2/kappa_11, dy**2/kappa_22])\n",
    "\n",
    "CFL = 1/6\n",
    "diffusion_model._dt = CFL * dt\n",
    "print('time step:', diffusion_model._dt)"
   ]
  },
  {
   "cell_type": "markdown",
   "metadata": {},
   "source": [
    "**Illustrates trend at initial condition**"
   ]
  },
  {
   "cell_type": "code",
   "execution_count": 13,
   "metadata": {},
   "outputs": [],
   "source": [
    "def plot(field):\n",
    "    plt.contourf(*diffusion_model.x, field.T)"
   ]
  },
  {
   "cell_type": "code",
   "execution_count": 14,
   "metadata": {},
   "outputs": [
    {
     "name": "stdout",
     "output_type": "stream",
     "text": [
      "(1, 1, 100, 100, 1)\n"
     ]
    }
   ],
   "source": [
    "state0 = U.copy().reshape((1,1)+diffusion_model.shape+(1,))\n",
    "print(state0.shape)"
   ]
  },
  {
   "cell_type": "code",
   "execution_count": 15,
   "metadata": {},
   "outputs": [],
   "source": [
    "import tensorflow.keras as keras"
   ]
  },
  {
   "cell_type": "code",
   "execution_count": 16,
   "metadata": {},
   "outputs": [
    {
     "data": {
      "text/plain": [
       "Text(0.5, 1.0, 'Trend for the diffusion')"
      ]
     },
     "execution_count": 16,
     "metadata": {},
     "output_type": "execute_result"
    },
    {
     "data": {
      "image/png": "[encoded data removed]",
      "text/plain": [
       "<Figure size 432x288 with 1 Axes>"
      ]
     },
     "metadata": {
      "needs_background": "light"
     },
     "output_type": "display_data"
    }
   ],
   "source": [
    "dU, = diffusion_model.trend(0,state0)\n",
    "\n",
    "plot(dU[0].reshape((100,100)))\n",
    "plt.title('Trend for the diffusion')"
   ]
  },
  {
   "cell_type": "markdown",
   "metadata": {},
   "source": [
    "**Short forecast**"
   ]
  },
  {
   "cell_type": "code",
   "execution_count": 17,
   "metadata": {},
   "outputs": [],
   "source": [
    "times = diffusion_model.window(time_scale)\n",
    "#saved_times = times[::100]\n",
    "saved_times = times"
   ]
  },
  {
   "cell_type": "code",
   "execution_count": 18,
   "metadata": {},
   "outputs": [],
   "source": [
    "diffusion_model.set_time_scheme('euler')\n",
    "traj = diffusion_model.forecast(times, state0, saved_times)"
   ]
  },
  {
   "cell_type": "code",
   "execution_count": 19,
   "metadata": {},
   "outputs": [
    {
     "data": {
      "image/png": "[encoded data removed]",
      "text/plain": [
       "<Figure size 864x360 with 2 Axes>"
      ]
     },
     "metadata": {
      "needs_background": "light"
     },
     "output_type": "display_data"
    }
   ],
   "source": [
    "plt.figure(figsize=(12,5))\n",
    "\n",
    "start, end = [traj[time] for time in [saved_times[0], saved_times[-1]]]\n",
    "\n",
    "title = ['start', 'end']\n",
    "for k, state in enumerate([start, end]):\n",
    "    plt.subplot(121+k)\n",
    "    plot(state[0].reshape((100,100)))\n",
    "    plt.title(title[k])\n",
    "    \n",
    "plt.savefig('./figures/NN-diffusion-2D-prediction.pdf')\n",
    "np.save('nn-diffusion.npy', end)"
   ]
  },
  {
   "cell_type": "markdown",
   "metadata": {},
   "source": [
    "**Comparison with the finite difference solution**"
   ]
  },
  {
   "cell_type": "code",
   "execution_count": 20,
   "metadata": {},
   "outputs": [],
   "source": [
    "fd_end_solution = np.load('fd-diffusion.npy')"
   ]
  },
  {
   "cell_type": "code",
   "execution_count": 21,
   "metadata": {},
   "outputs": [
    {
     "data": {
      "image/png": "[encoded data removed]",
      "text/latex": [
       "$\\displaystyle 8.52952181410348 \\cdot 10^{-6}$"
      ],
      "text/plain": [
       "8.52952181410348e-06"
      ]
     },
     "execution_count": 21,
     "metadata": {},
     "output_type": "execute_result"
    }
   ],
   "source": [
    "np.linalg.norm(fd_end_solution[0] - end[0,0,:,:,0])"
   ]
  },
  {
   "cell_type": "markdown",
   "metadata": {},
   "source": [
    "## Conclusion <a id='conclusion'/>"
   ]
  },
  {
   "cell_type": "markdown",
   "metadata": {},
   "source": [
    "In this notebook, the solution of the diffusion equation using a NN code has been presented. \n",
    "The results are those of the finite-difference solution (not shown here). This validate the NN generator and illustrates how the physical equations can be used for the design of a NN architecture."
   ]
  }
 ],
 "metadata": {
  "kernelspec": {
   "display_name": "Python 3",
   "language": "python",
   "name": "python3"
  },
  "language_info": {
   "codemirror_mode": {
    "name": "ipython",
    "version": 3
   },
   "file_extension": ".py",
   "mimetype": "text/x-python",
   "name": "python",
   "nbconvert_exporter": "python",
   "pygments_lexer": "ipython3",
   "version": "3.8.8"
  },
  "toc": {
   "nav_menu": {},
   "number_sections": true,
   "sideBar": true,
   "skip_h1_title": true,
   "toc_cell": false,
   "toc_position": {},
   "toc_section_display": "block",
   "toc_window_display": false
  }
 },
 "nbformat": 4,
 "nbformat_minor": 4
}
